{
 "metadata": {
  "name": ""
 },
 "nbformat": 3,
 "nbformat_minor": 0,
 "worksheets": [
  {
   "cells": [
    {
     "cell_type": "heading",
     "level": 1,
     "metadata": {},
     "source": [
      "Introduction to NLP with NLTK"
     ]
    },
    {
     "cell_type": "markdown",
     "metadata": {},
     "source": [
      "Natural Language Processing (NLP) is often taught at the academic level from the perspective of computational linguists. However, as data scientists, we have a richer view of the natural language world - unstructured data that by its very nature has latent information that is important to humans. NLP practioners have benefited from machine learning techniques to unlock meaning from large corpora, and in this class we\u2019ll explore how to do that particularly with Python and with the Natural Language Toolkit (NLTK). \n",
      "\n",
      "NLTK is an excellent library for machine-learning based NLP, written in Python by experts from both academia and industry. Python allows you to create rich data applications rapidly, iterating on hypotheses. The combination of Python + NLTK means that you can easily add language-aware data products to your larger analytical workflows and applications. \n",
      "\n",
      "## Quick Overview of NLTK\n",
      "NLTK stands for the Natural Language Toolkit and is written by two eminent computational linguists, Steven Bird (Senior Research Associate of the LDC and professor at the University of Melbourne) and Ewan Klein (Professor of Linguistics at Edinburgh University). NTLK provides a combination of natural language corpora, lexical resources, and example grammars with language processing algorithms, methodologies and demonstrations for a very pythonic \"batteries included\" view of Natural Language Processing.   \n",
      "\n",
      "As such, NLTK is perfect for researh driven (hypothesis driven) workflows for agile data science. Its suite of libraries includes:\n",
      "\n",
      "- tokenization, stemming, and tagging\n",
      "- chunking and parsing\n",
      "- language modeling\n",
      "- classification and clustering\n",
      "- logical semantics\n",
      "\n",
      "NLTK is a useful pedagogical resource for learning NLP with Python and serves as a starting place for producing production grade code that requires natural language analysis. It is also important to understand what NLTK is _not_:\n",
      "\n",
      "- Production ready out of the box\n",
      "- Lightweight\n",
      "- Generally applicable\n",
      "- Magic\n",
      "\n",
      "NLTK provides a variety of tools that can be used to explore the linguistic domain but is not a lightweight dependency that can be easily included in other workflows, especially those that require unit and integration testing or other build processes. This stems from the fact that NLTK includes a lot of added code but also a rich and complete library of corpora that power the built-in algorithms. \n",
      "\n",
      "### The Good parts of NLTK\n",
      "\n",
      "- Preprocessing\n",
      "    - segmentation\n",
      "    - tokenization\n",
      "    - PoS tagging\n",
      "- Word level processing\n",
      "    - WordNet\n",
      "    - Lemmatization\n",
      "    - Stemming\n",
      "    - NGrams\n",
      "- Utilities\n",
      "    - Tree\n",
      "    - FreqDist\n",
      "    - ConditionalFreqDist\n",
      "    - Streaming CorpusReaders\n",
      "- Classification\n",
      "    - Maximum Entropy\n",
      "    - Naive Bayes\n",
      "    - Decision Tree\n",
      "- Chunking\n",
      "- Named Entity Recognition\n",
      "- Parsers Galore!\n",
      "\n",
      "### The Bad parts of NLTK\n",
      "\n",
      "- Syntactic Parsing\n",
      "\n",
      "    - No included grammar (not a black box)\n",
      "    - No Feature/Dependency Parsing\n",
      "    - No included feature grammar\n",
      "\n",
      "- The sem package\n",
      "    \n",
      "    - Toy only (lambda-calculus & first order logic)\n",
      "\n",
      "- Lots of extra stuff (heavyweight dependency)\n",
      "\n",
      "    - papers, chat programs, alignments, etc.\n",
      "\n",
      "Knowing the good and the bad parts will help you explore NLTK further - looking into the source code to extract the material you need, then moving that code to production. We will explore NLTK in more detail in the rest of this notebook. \n",
      "\n",
      "## Installing NLTK\n",
      "\n",
      "This notebook has a few dependencies, most of which can be installed via the python package manger - `pip`. \n",
      "\n",
      "1. Python 2.7 or later (anaconda is ok)\n",
      "2. NLTK\n",
      "3. The NLTK corpora \n",
      "4. The BeautifulSoup library\n",
      "5. The gensim libary\n",
      "\n",
      "Once you have Python and pip installed you can install NLTK as follows:\n",
      "\n",
      "    ~$ pip install nltk\n",
      "    \n",
      "    ~$ pip install matplotlib\n",
      "    \n",
      "    ~$ pip install beautifulsoup4\n",
      "    \n",
      "    ~$ pip install gensim\n",
      "\n",
      "Note that these will also install Numpy and Scipy if they aren't already installed. \n",
      "\n",
      "To download the corpora, open a python interperter:\n"
     ]
    },
    {
     "cell_type": "code",
     "collapsed": false,
     "input": [
      "import nltk"
     ],
     "language": "python",
     "metadata": {},
     "outputs": [],
     "prompt_number": 17
    },
    {
     "cell_type": "code",
     "collapsed": false,
     "input": [
      "nltk.download()"
     ],
     "language": "python",
     "metadata": {},
     "outputs": []
    },
    {
     "cell_type": "markdown",
     "metadata": {},
     "source": [
      "This will open up a window with which you can download the various corpora and models to a specified location. For now, go ahead and download it all as we will be exploring as much of NLTK as we can. Also take note of the `download_directory` - you're going to want to know where that is so you can get a detailed look at the corpora that's included. I usually export an enviornment variable to track this:\n",
      "\n",
      "    ~$ export NLTK_DATA=/path/to/nltk_data\n",
      "    \n",
      "_Take a momement to explore what is in this directory_"
     ]
    },
    {
     "cell_type": "markdown",
     "metadata": {},
     "source": [
      "## Working with Example Corpora\n",
      "\n",
      "NLTK ships with a variety of corpora, let's use a few of them to do some work. Get access to the text from _Moby Dick_ as follows:"
     ]
    },
    {
     "cell_type": "code",
     "collapsed": false,
     "input": [
      "moby = nltk.text.Text(nltk.corpus.gutenberg.words('melville-moby_dick.txt'))"
     ],
     "language": "python",
     "metadata": {},
     "outputs": []
    },
    {
     "cell_type": "markdown",
     "metadata": {},
     "source": [
      "The `nltk.text.Text` class is a wrapper around a sequence of simple (string) tokens - intended only for _the initial exploration of text_ usually via the Python REPL. It has the following methods:\n",
      "\n",
      "- common_contexts\n",
      "- concordance\n",
      "- collocations\n",
      "- count\n",
      "- plot\n",
      "- findall\n",
      "- index\n",
      "\n",
      "You shouldn't use this class in production level systems, but it is useful to explore (small) snippets of text in a meaningful fashion.\n",
      "\n",
      "The corcordance function performs a search for the given token and then also provides the surrounding context:\n"
     ]
    },
    {
     "cell_type": "code",
     "collapsed": false,
     "input": [
      "moby.concordance(\"ishmael\")"
     ],
     "language": "python",
     "metadata": {},
     "outputs": []
    },
    {
     "cell_type": "markdown",
     "metadata": {},
     "source": [
      "Given some context surrounding a word, we can discover similar words, e.g. words that that occur frequently in the same context and with a similar distribution: Distributional similarity: "
     ]
    },
    {
     "cell_type": "code",
     "collapsed": false,
     "input": [
      "moby.similar(\"ship\")"
     ],
     "language": "python",
     "metadata": {},
     "outputs": []
    },
    {
     "cell_type": "markdown",
     "metadata": {},
     "source": [
      "As you can see, this takes a bit of time to build the index in memory, one of the reasons it's not suggested to use this class in production code. Now that we can do searching and similarity, find the common contexts of a set of words:"
     ]
    },
    {
     "cell_type": "code",
     "collapsed": false,
     "input": [
      "moby.common_contexts([\"sea\", \"whale\"])"
     ],
     "language": "python",
     "metadata": {},
     "outputs": []
    },
    {
     "cell_type": "markdown",
     "metadata": {},
     "source": [
      "_your turn, go ahead and explore similar words and contexts - what does the common context mean?_\n",
      "\n",
      "NLTK also uses matplotlib and pylab to display graphs and charts that can show dispersions and frequency. This is especially interesting for the corpus of innagural addresses given by U.S. presidents."
     ]
    },
    {
     "cell_type": "code",
     "collapsed": false,
     "input": [
      "inaugural = nltk.text.Text(nltk.corpus.inaugural.words())\n",
      "inaugural.dispersion_plot([\"citizens\", \"democracy\", \"freedom\", \"duties\", \"America\"])"
     ],
     "language": "python",
     "metadata": {},
     "outputs": []
    },
    {
     "cell_type": "markdown",
     "metadata": {},
     "source": [
      "To explore much of the built in corpus, use the following methods:"
     ]
    },
    {
     "cell_type": "code",
     "collapsed": false,
     "input": [
      "# Lists the various corpora and CorpusReader classes in the nltk.corpus module\n",
      "for name in dir(nltk.corpus):\n",
      "    if name.islower() and not name.startswith('_'): print name"
     ],
     "language": "python",
     "metadata": {},
     "outputs": []
    },
    {
     "cell_type": "code",
     "collapsed": false,
     "input": [
      "# For a specific corpus, list the fileids that are available:\n",
      "print nltk.corpus.shakespeare.fileids()"
     ],
     "language": "python",
     "metadata": {},
     "outputs": []
    },
    {
     "cell_type": "code",
     "collapsed": false,
     "input": [
      "print nltk.corpus.gutenberg.fileids()"
     ],
     "language": "python",
     "metadata": {},
     "outputs": []
    },
    {
     "cell_type": "code",
     "collapsed": false,
     "input": [
      "print nltk.corpus.stopwords.fileids()"
     ],
     "language": "python",
     "metadata": {},
     "outputs": []
    },
    {
     "cell_type": "markdown",
     "metadata": {},
     "source": [
      "These corpora export several vital methods:\n",
      "\n",
      "- paras (iterate through each paragraph)\n",
      "- sents (iterate through each sentence)\n",
      "- words (iterate through each word)\n",
      "- raw   (get access to the raw text)"
     ]
    },
    {
     "cell_type": "code",
     "collapsed": false,
     "input": [
      "corpus = nltk.corpus.brown\n",
      "print corpus.paras()"
     ],
     "language": "python",
     "metadata": {},
     "outputs": []
    },
    {
     "cell_type": "code",
     "collapsed": false,
     "input": [
      "print corpus.sents()"
     ],
     "language": "python",
     "metadata": {},
     "outputs": []
    },
    {
     "cell_type": "code",
     "collapsed": false,
     "input": [
      "print corpus.words()"
     ],
     "language": "python",
     "metadata": {},
     "outputs": []
    },
    {
     "cell_type": "code",
     "collapsed": false,
     "input": [
      "print corpus.raw()[:200] # Be careful!"
     ],
     "language": "python",
     "metadata": {},
     "outputs": []
    },
    {
     "cell_type": "markdown",
     "metadata": {},
     "source": [
      "_Your turn! Explore some of the text in the available corpora_"
     ]
    },
    {
     "cell_type": "markdown",
     "metadata": {},
     "source": [
      "## Frequency Analyses\n",
      "\n",
      "In statistical machine learning approaches to NLP, the very first thing we need to do is count things - especially the unigrams that appear in the text and their relationships to each other. NLTK provides two very excellent classes to enable these frequency analyses:\n",
      "\n",
      "- `FreqDist`\n",
      "- `ConditionalFreqDist` \n",
      "\n",
      "And these two classes serve as the foundation for most of the probability and statistical analyses that we will conduct.\n",
      "\n",
      "First we will compute the following:\n",
      "\n",
      "- The count of words\n",
      "- The vocabulary (unique words)\n",
      "- The lexical diversity (the ratio of word count to vocabulary)"
     ]
    },
    {
     "cell_type": "code",
     "collapsed": false,
     "input": [
      "reuters = nltk.corpus.reuters # Corpus of news articles\n",
      "counts  = nltk.FreqDist(reuters.words())\n",
      "vocab   = len(counts.keys())\n",
      "words   = sum(counts.values())\n",
      "lexdiv  = float(words) / float(vocab)\n",
      "\n",
      "print \"Corpus has %i types and %i tokens for a lexical diversity of %0.3f\" % (vocab, words, lexdiv)\n"
     ],
     "language": "python",
     "metadata": {},
     "outputs": []
    },
    {
     "cell_type": "code",
     "collapsed": false,
     "input": [
      "print counts.most_common(40)  # The n most common tokens in the corpus"
     ],
     "language": "python",
     "metadata": {},
     "outputs": []
    },
    {
     "cell_type": "code",
     "collapsed": false,
     "input": [
      "print counts.max() # tThe most frequent token in the corpus"
     ],
     "language": "python",
     "metadata": {},
     "outputs": []
    },
    {
     "cell_type": "code",
     "collapsed": false,
     "input": [
      "print counts.hapaxes()[0:10]  # A list of all hapax legomena "
     ],
     "language": "python",
     "metadata": {},
     "outputs": []
    },
    {
     "cell_type": "code",
     "collapsed": false,
     "input": [
      "counts.freq('American') * 100 # percentage of the corpus for this token"
     ],
     "language": "python",
     "metadata": {},
     "outputs": []
    },
    {
     "cell_type": "code",
     "collapsed": false,
     "input": [
      "counts.plot(100, cumulative=True)"
     ],
     "language": "python",
     "metadata": {},
     "outputs": []
    },
    {
     "cell_type": "code",
     "collapsed": false,
     "input": [
      "from itertools import chain \n",
      "\n",
      "brown = nltk.corpus.brown\n",
      "categories = brown.categories()\n",
      "counts = nltk.ConditionalFreqDist(chain(*[[(cat, word) for word in brown.words(categories=cat)] for cat in categories]))\n",
      "\n",
      "for category, dist in counts.items():\n",
      "    vocab  = len(dist.keys())\n",
      "    tokens = sum(dist.values())\n",
      "    lexdiv = float(tokens) / float(vocab)\n",
      "    print \"%s: %i types with %i tokens and lexical diveristy of %0.3f\" % (category, vocab, tokens, lexdiv)"
     ],
     "language": "python",
     "metadata": {},
     "outputs": []
    },
    {
     "cell_type": "markdown",
     "metadata": {},
     "source": [
      "_Your turn: compute the conditional frequency distribution of bigrams in a corpus_\n",
      "\n",
      "Hint:\n"
     ]
    },
    {
     "cell_type": "code",
     "collapsed": false,
     "input": [
      "for bigram in nltk.bigrams([\"The\", \"bear\", \"walked\", \"in\", \"the\", \"woods\", \"at\", \"midnight\"]):\n",
      "    print bigram"
     ],
     "language": "python",
     "metadata": {},
     "outputs": []
    },
    {
     "cell_type": "markdown",
     "metadata": {},
     "source": [
      "## Preprocessing Text\n",
      "\n",
      "NLTK is great at the preprocessing of Raw text - it provides the following tools for dividing text into it's constituent parts:\n",
      "\n",
      "- `sent_tokenize`: a Punkt sentence tokenizer:\n",
      "\n",
      "    This tokenizer divides a text into a list of sentences, by using an unsupervised algorithm to build a model for abbreviation words, collocations, and words that start sentences.  It must be trained on a large collection of plaintext in the target language before it can be used.\n",
      "    \n",
      "    However, Punkt is designed to learn parameters (a list of abbreviations, etc.) unsupervised from a corpus similar to the target domain. The pre-packaged models may therefore be unsuitable: use PunktSentenceTokenizer(text) to learn parameters from the given text.\n",
      "    \n",
      "    \n",
      "- `word_tokenize`: a Treebank tokenizer \n",
      "\n",
      "    The Treebank tokenizer uses regular expressions to tokenize text as in Penn Treebank. This is the method that is invoked by ``word_tokenize()``.  It assumes that the text has already been segmented into sentences, e.g. using ``sent_tokenize()``.\n",
      "    \n",
      "\n",
      "- `pos_tag`: a maximum entropy tagger trained on the Penn Treebank\n",
      "\n",
      "    There are several other taggers including (notably) the BrillTagger as well as the BrillTrainer to train your own tagger or tagset. "
     ]
    },
    {
     "cell_type": "code",
     "collapsed": false,
     "input": [
      "text = u\"Medical personnel returning to New York and New Jersey from the Ebola-riddled countries in West Africa will be automatically quarantined if they had direct contact with an infected person, officials announced Friday. New York Gov. Andrew Cuomo (D) and New Jersey Gov. Chris Christie (R) announced the decision at a joint news conference Friday at 7 World Trade Center. \u201cWe have to do more,\u201d Cuomo said. \u201cIt\u2019s too serious of a situation to leave it to the honor system of compliance.\u201d They said that public-health officials at John F. Kennedy and Newark Liberty international airports, where enhanced screening for Ebola is taking place, would make the determination on who would be quarantined. Anyone who had direct contact with an Ebola patient in Liberia, Sierra Leone or Guinea will be quarantined. In addition, anyone who traveled there but had no such contact would be actively monitored and possibly quarantined, authorities said. This news came a day after a doctor who had treated Ebola patients in Guinea was diagnosed in Manhattan, becoming the fourth person diagnosed with the virus in the United States and the first outside of Dallas. And the decision came not long after a health-care worker who had treated Ebola patients arrived at Newark, one of five airports where people traveling from West Africa to the United States are encountering the stricter screening rules.\"\n",
      "\n",
      "for sent in nltk.sent_tokenize(text): \n",
      "    print sent\n",
      "    print\n"
     ],
     "language": "python",
     "metadata": {},
     "outputs": []
    },
    {
     "cell_type": "code",
     "collapsed": false,
     "input": [
      "for sent in nltk.sent_tokenize(text):\n",
      "    print list(nltk.word_tokenize(sent))\n",
      "    print"
     ],
     "language": "python",
     "metadata": {},
     "outputs": []
    },
    {
     "cell_type": "code",
     "collapsed": false,
     "input": [
      "for sent in nltk.sent_tokenize(text):\n",
      "    print list(nltk.pos_tag(nltk.word_tokenize(sent)))\n",
      "    print"
     ],
     "language": "python",
     "metadata": {},
     "outputs": []
    },
    {
     "cell_type": "markdown",
     "metadata": {},
     "source": [
      "All of these taggers work _pretty_ well - but you can (and should train them on your own corpora). \n",
      "\n",
      "## Stemming and Lemmatization\n",
      "\n",
      "We have an immense number of word forms as you can see from our various counts in the `FreqDist` above - it is helpful for many applications to normalize these word forms (especially applications like search) into some canonical word for further exploration. In English (and many other languages) - mophological context indicate gender, tense, quantity, etc. but these sublties might not be necessary:\n",
      "\n",
      "Stemming = chop off affixes to get the root stem of the word:\n",
      "\n",
      "    running --> run\n",
      "    flowers --> flower\n",
      "    geese   --> geese \n",
      "    \n",
      "Lemmatization = look up word form in a lexicon to get canonical lemma\n",
      "\n",
      "    women   --> woman\n",
      "    foxes   --> fox\n",
      "    sheep   --> sheep\n",
      "    \n",
      "There are several stemmers available:\n",
      "\n",
      "    - Lancaster (English, newer and aggressive)\n",
      "    - Porter (English, original stemmer)\n",
      "    - Snowball (Many langauges, newest)\n",
      "    \n",
      "The Lemmatizer uses the WordNet lexicon\n",
      "    "
     ]
    },
    {
     "cell_type": "code",
     "collapsed": false,
     "input": [
      "from nltk.stem.snowball import SnowballStemmer\n",
      "from nltk.stem.lancaster import LancasterStemmer\n",
      "from nltk.stem.porter import PorterStemmer\n",
      "\n",
      "text = list(nltk.word_tokenize(\"The women running in the fog passed bunnies working as computer scientists.\"))\n",
      "\n",
      "snowball = SnowballStemmer('english')\n",
      "lancaster = LancasterStemmer()\n",
      "porter = PorterStemmer()\n",
      "\n",
      "for stemmer in (snowball, lancaster, porter):\n",
      "    stemmed_text = [stemmer.stem(t) for t in text]\n",
      "    print stemmed_text"
     ],
     "language": "python",
     "metadata": {},
     "outputs": [
      {
       "output_type": "stream",
       "stream": "stdout",
       "text": [
        "[u'the', u'women', u'run', 'in', u'the', u'fog', u'pass', u'bunni', u'work', 'as', u'comput', u'scientist', '.']\n",
        "['the', 'wom', 'run', 'in', 'the', 'fog', 'pass', u'bunny', 'work', 'as', 'comput', 'sci', '.']\n",
        "[u'The', u'women', u'run', u'in', u'the', u'fog', u'pass', u'bunni', u'work', u'as', u'comput', u'scientist', u'.']\n"
       ]
      }
     ],
     "prompt_number": 22
    },
    {
     "cell_type": "code",
     "collapsed": false,
     "input": [
      "from nltk.stem.wordnet import WordNetLemmatizer\n",
      "\n",
      "lemmatizer = WordNetLemmatizer()\n",
      "lemmas = [lemmatizer.lemmatize(t) for t in text]\n",
      "print lemmas"
     ],
     "language": "python",
     "metadata": {},
     "outputs": [
      {
       "output_type": "stream",
       "stream": "stdout",
       "text": [
        "['The', u'woman', 'running', 'in', 'the', 'fog', 'passed', u'bunny', 'working', u'a', 'computer', u'scientist', '.']\n"
       ]
      }
     ],
     "prompt_number": 24
    },
    {
     "cell_type": "markdown",
     "metadata": {},
     "source": [
      "Note that the lemmatizer has to load the WordNet corpus which takes a bit."
     ]
    },
    {
     "cell_type": "code",
     "collapsed": false,
     "input": [],
     "language": "python",
     "metadata": {},
     "outputs": []
    }
   ],
   "metadata": {}
  }
 ]
}